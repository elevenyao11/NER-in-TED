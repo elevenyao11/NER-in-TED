{
 "cells": [
  {
   "cell_type": "code",
   "execution_count": 22,
   "id": "atomic-radar",
   "metadata": {},
   "outputs": [],
   "source": [
    "import pandas as pd"
   ]
  },
  {
   "cell_type": "code",
   "execution_count": 23,
   "id": "relative-victoria",
   "metadata": {},
   "outputs": [],
   "source": [
    "df = pd.read_csv('unique_AMT.csv', index_col=\"talk_id\")"
   ]
  },
  {
   "cell_type": "code",
   "execution_count": null,
   "id": "tamil-sympathy",
   "metadata": {},
   "outputs": [],
   "source": [
    "trucated = df.iloc[:660]"
   ]
  },
  {
   "cell_type": "code",
   "execution_count": null,
   "id": "metric-suicide",
   "metadata": {},
   "outputs": [],
   "source": [
    "trucated.to_csv(\"truncated_unique_AMT.csv\")"
   ]
  },
  {
   "cell_type": "code",
   "execution_count": 36,
   "id": "improving-movement",
   "metadata": {},
   "outputs": [],
   "source": [
    "trucated2 = df.iloc[660:790]"
   ]
  },
  {
   "cell_type": "code",
   "execution_count": 37,
   "id": "increased-xerox",
   "metadata": {},
   "outputs": [],
   "source": [
    "trucated2.to_csv(\"truncated_unique_AMT_2.csv\")"
   ]
  },
  {
   "cell_type": "code",
   "execution_count": null,
   "id": "intended-dairy",
   "metadata": {},
   "outputs": [],
   "source": []
  }
 ],
 "metadata": {
  "kernelspec": {
   "display_name": "Python 3",
   "language": "python",
   "name": "python3"
  },
  "language_info": {
   "codemirror_mode": {
    "name": "ipython",
    "version": 3
   },
   "file_extension": ".py",
   "mimetype": "text/x-python",
   "name": "python",
   "nbconvert_exporter": "python",
   "pygments_lexer": "ipython3",
   "version": "3.8.3"
  }
 },
 "nbformat": 4,
 "nbformat_minor": 5
}
