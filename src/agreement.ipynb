{
 "cells": [
  {
   "cell_type": "markdown",
   "metadata": {},
   "source": [
    "# Interannotator agreement study"
   ]
  },
  {
   "cell_type": "markdown",
   "metadata": {},
   "source": [
    "## calculate interannotator agreement"
   ]
  },
  {
   "cell_type": "code",
   "execution_count": 3,
   "metadata": {},
   "outputs": [],
   "source": [
    "import pandas as pd\n",
    "from collections import defaultdict\n",
    "import nltk\n",
    "from nltk.metrics.agreement import AnnotationTask"
   ]
  },
  {
   "cell_type": "markdown",
   "metadata": {},
   "source": [
    "### Funtion which converts the data frame to the (coder, item, category) format used by NLTK."
   ]
  },
  {
   "cell_type": "code",
   "execution_count": 1,
   "metadata": {},
   "outputs": [],
   "source": [
    "def convert_to_triples(dataframe):\n",
    "    '''Converts the format pandas data frame to the (coder, item, category) format used by NLTK'''\n",
    "    entity_count = defaultdict(int)\n",
    "    triple_lst = []\n",
    "    i = 0\n",
    "    for row in df.iterrows():\n",
    "        annotation = row[1].to_dict()\n",
    "        if annotation['Answer.Label.label'] == 'YES':\n",
    "            correction = annotation['Input.label']\n",
    "        else:\n",
    "            correction = annotation['Answer.Label.label'].split(': ')[1]\n",
    "        coder = \"C\" + str(i % 3 + 1)\n",
    "        entity = annotation['Input.entities']\n",
    "        if entity_count[entity] > 3:\n",
    "            j = entity_count[entity] - 1 // 3 \n",
    "            entity = entity + \"_\" + str(j)\n",
    "        triple_lst.append((coder, entity, correction))\n",
    "        i+=1\n",
    "\n",
    "    return triple_lst"
   ]
  },
  {
   "cell_type": "markdown",
   "metadata": {},
   "source": [
    "#### Calculate the agreement on the pilot annoations"
   ]
  },
  {
   "cell_type": "code",
   "execution_count": 6,
   "metadata": {},
   "outputs": [
    {
     "name": "stdout",
     "output_type": "stream",
     "text": [
      "163\n",
      "(163, 37)\n"
     ]
    }
   ],
   "source": [
    "df = pd.read_csv('../annotation/Mturks_plot.csv')\n",
    "triple_lst = convert_to_triples(df)\n",
    "\n",
    "print(len(triple_lst))\n",
    "\n",
    "print(df.shape)"
   ]
  },
  {
   "cell_type": "code",
   "execution_count": 9,
   "metadata": {},
   "outputs": [
    {
     "name": "stdout",
     "output_type": "stream",
     "text": [
      "The agreement S is 0.8554652213188799\n",
      "The agreement PI is 0.8064135353137913\n",
      "The agreement kappa is 0.806556915140547\n",
      "The agreement alpha is 0.7329313285991985\n"
     ]
    }
   ],
   "source": [
    "annotation_task = AnnotationTask(triple_lst)\n",
    "print(f\"The agreement S is {annotation_task.S()}\")\n",
    "print(f\"The agreement PI is {annotation_task.pi()}\")\n",
    "print(f\"The agreement kappa is {annotation_task.kappa()}\")\n",
    "print(f\"The agreement alpha is {annotation_task.alpha()}\")"
   ]
  },
  {
   "cell_type": "markdown",
   "metadata": {},
   "source": [
    "### Read the Mechanical Turk final annotations into pandas data frame and convert to triples fomart."
   ]
  },
  {
   "cell_type": "code",
   "execution_count": 10,
   "metadata": {},
   "outputs": [
    {
     "name": "stdout",
     "output_type": "stream",
     "text": [
      "2370\n",
      "(2370, 38)\n"
     ]
    }
   ],
   "source": [
    "df = pd.read_csv('../annotation/batch_result_final.csv')\n",
    "triple_lst = convert_to_triples(df)\n",
    "\n",
    "print(len(triple_lst))\n",
    "\n",
    "print(df.shape)"
   ]
  },
  {
   "cell_type": "markdown",
   "metadata": {},
   "source": [
    "### Calculate the agreement score by different metrics."
   ]
  },
  {
   "cell_type": "code",
   "execution_count": 11,
   "metadata": {},
   "outputs": [
    {
     "name": "stdout",
     "output_type": "stream",
     "text": [
      "The agreement S is 0.7407407407407407\n",
      "The agreement PI is 0.6967858444622387\n",
      "The agreement kappa is 0.6968947263611659\n",
      "The agreement alpha is 0.6922922074312876\n"
     ]
    }
   ],
   "source": [
    "annotation_task = AnnotationTask(triple_lst)\n",
    "print(f\"The agreement S is {annotation_task.S()}\")\n",
    "print(f\"The agreement PI is {annotation_task.pi()}\")\n",
    "print(f\"The agreement kappa is {annotation_task.kappa()}\")\n",
    "print(f\"The agreement alpha is {annotation_task.alpha()}\")"
   ]
  },
  {
   "cell_type": "markdown",
   "metadata": {},
   "source": [
    "### Calculate the agreement score by Krippendorf's Alpha by scale."
   ]
  },
  {
   "cell_type": "code",
   "execution_count": 12,
   "metadata": {},
   "outputs": [],
   "source": [
    "def entity_distance(tag1,tag2):\n",
    "    if tag1 == tag2:\n",
    "        return 0\n",
    "    elif tag1 == \"N/A\" or tag2 == \"N/A\":\n",
    "        return 1\n",
    "    elif (tag1 == \"LOC\" and tag2 == \"ORG\") or (tag2 == \"LOC\" and tag1 == \"ORG\"):\n",
    "        return 1\n",
    "    elif (tag1 == \"PRODUCT\" and tag2 == \"WORK_OF_ART\") or (tag2 == \"PRODUCT\" and tag1 == \"WORK_OF_ART\"):\n",
    "        return 1\n",
    "    else:\n",
    "        return 2"
   ]
  },
  {
   "cell_type": "code",
   "execution_count": 13,
   "metadata": {},
   "outputs": [],
   "source": [
    "annotation_task = AnnotationTask(triple_lst,distance=entity_distance)"
   ]
  },
  {
   "cell_type": "code",
   "execution_count": 14,
   "metadata": {},
   "outputs": [
    {
     "data": {
      "text/plain": [
       "0.7348131720090019"
      ]
     },
     "execution_count": 14,
     "metadata": {},
     "output_type": "execute_result"
    }
   ],
   "source": [
    "annotation_task.alpha()"
   ]
  }
 ],
 "metadata": {
  "kernelspec": {
   "display_name": "Python 3",
   "language": "python",
   "name": "python3"
  },
  "language_info": {
   "codemirror_mode": {
    "name": "ipython",
    "version": 3
   },
   "file_extension": ".py",
   "mimetype": "text/x-python",
   "name": "python",
   "nbconvert_exporter": "python",
   "pygments_lexer": "ipython3",
   "version": "3.8.3"
  }
 },
 "nbformat": 4,
 "nbformat_minor": 4
}
