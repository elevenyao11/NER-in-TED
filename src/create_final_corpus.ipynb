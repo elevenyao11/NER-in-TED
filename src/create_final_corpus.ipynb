{
 "cells": [
  {
   "cell_type": "markdown",
   "id": "ecological-facial",
   "metadata": {},
   "source": [
    "## Creating final annotated corpus"
   ]
  },
  {
   "cell_type": "markdown",
   "id": "blocked-rubber",
   "metadata": {},
   "source": [
    "### Imports"
   ]
  },
  {
   "cell_type": "code",
   "execution_count": 375,
   "id": "polish-denmark",
   "metadata": {},
   "outputs": [],
   "source": [
    "import pandas as pd\n",
    "import numpy as np\n",
    "import json\n",
    "from collections import Counter"
   ]
  },
  {
   "cell_type": "markdown",
   "id": "acoustic-macintosh",
   "metadata": {},
   "source": [
    "### Load the final AMT file"
   ]
  },
  {
   "cell_type": "code",
   "execution_count": 376,
   "id": "lovely-singapore",
   "metadata": {},
   "outputs": [],
   "source": [
    "df = pd.read_csv('../annotation/batch_result_final.csv')"
   ]
  },
  {
   "cell_type": "code",
   "execution_count": 377,
   "id": "second-bailey",
   "metadata": {},
   "outputs": [
    {
     "data": {
      "text/plain": [
       "(2370, 38)"
      ]
     },
     "execution_count": 377,
     "metadata": {},
     "output_type": "execute_result"
    }
   ],
   "source": [
    "df.shape"
   ]
  },
  {
   "cell_type": "markdown",
   "id": "fewer-strap",
   "metadata": {},
   "source": [
    "### Pick the majority among the three annotations\n",
    "- If there is no majority (i.e. all three labels are different), then we followed the system label from spaCy."
   ]
  },
  {
   "cell_type": "code",
   "execution_count": 378,
   "id": "fantastic-stretch",
   "metadata": {},
   "outputs": [],
   "source": [
    "df_4 = df[[\"Input.talk_id\", \"Input.para_id\", \"Input.entity_id\", \"Final_label\"]]"
   ]
  },
  {
   "cell_type": "code",
   "execution_count": 379,
   "id": "imported-choice",
   "metadata": {},
   "outputs": [],
   "source": [
    "labels = []\n",
    "three_labels = []\n",
    "for i in range(len(df_4)):\n",
    "    if i % 3 == 0:\n",
    "        labels.append(three_labels)\n",
    "        three_labels = []\n",
    "        three_labels.append(df[\"Final_label\"][i])\n",
    "    else:\n",
    "        three_labels.append(df[\"Final_label\"][i])\n",
    "labels.append(three_labels)\n",
    "labels = labels[1:]"
   ]
  },
  {
   "cell_type": "code",
   "execution_count": 380,
   "id": "rising-closure",
   "metadata": {},
   "outputs": [],
   "source": [
    "assert len(labels) == df.shape[0]/3"
   ]
  },
  {
   "cell_type": "code",
   "execution_count": 381,
   "id": "occupational-villa",
   "metadata": {
    "scrolled": true
   },
   "outputs": [
    {
     "data": {
      "text/plain": [
       "[[nan, 'PERSON', nan],\n",
       " ['ORG', 'ORG', 'ORG'],\n",
       " ['LOC', 'LOC', 'LOC'],\n",
       " ['LOC', 'LOC', 'LOC'],\n",
       " ['ORG', 'ORG', nan],\n",
       " ['LOC', 'LOC', 'LOC'],\n",
       " [nan, nan, 'ORG'],\n",
       " ['PERSON', 'ORG', 'ORG'],\n",
       " ['PERSON', 'PERSON', 'PERSON'],\n",
       " ['PERSON', 'PERSON', 'PERSON']]"
      ]
     },
     "execution_count": 381,
     "metadata": {},
     "output_type": "execute_result"
    }
   ],
   "source": [
    "labels[:10]"
   ]
  },
  {
   "cell_type": "code",
   "execution_count": 382,
   "id": "premium-cardiff",
   "metadata": {
    "scrolled": true
   },
   "outputs": [],
   "source": [
    "best_labels = []\n",
    "for three_labels in labels:\n",
    "    counts = Counter(three_labels).most_common()\n",
    "    if counts[0][-1] > 1:\n",
    "        best_labels.append(counts[0][0])\n",
    "    else:\n",
    "        best_labels.append(three_labels)"
   ]
  },
  {
   "cell_type": "code",
   "execution_count": 383,
   "id": "funky-trade",
   "metadata": {},
   "outputs": [],
   "source": [
    "best_annotations = df[[\"Input.talk_id\", \"Input.para_id\", \"Input.entity_id\", \"Input.entities\", \"Input.label\"]]\n",
    "best_annotations = best_annotations.drop_duplicates([\"Input.talk_id\", \"Input.para_id\", \"Input.entity_id\"])"
   ]
  },
  {
   "cell_type": "code",
   "execution_count": 384,
   "id": "handled-tissue",
   "metadata": {},
   "outputs": [],
   "source": [
    "best_annotations[\"best_label\"] = np.asarray(best_labels, dtype=\"object\")"
   ]
  },
  {
   "cell_type": "markdown",
   "id": "binary-greensboro",
   "metadata": {},
   "source": [
    "For the labels where the one best label didn't exist, we chose the system label."
   ]
  },
  {
   "cell_type": "code",
   "execution_count": 419,
   "id": "legislative-distinction",
   "metadata": {
    "scrolled": true
   },
   "outputs": [],
   "source": [
    "for i in range(0, 2368, 3):\n",
    "    if isinstance(best_annotations[\"best_label\"][i], list):\n",
    "        best_annotations[\"best_label\"][i] = best_annotations[\"Input.label\"][i]"
   ]
  },
  {
   "cell_type": "code",
   "execution_count": 421,
   "id": "pregnant-monthly",
   "metadata": {},
   "outputs": [],
   "source": [
    "assert best_annotations[\"best_label\"][63] == \"LOC\"\n",
    "assert best_annotations[\"best_label\"][2223] == \"LOC\""
   ]
  },
  {
   "cell_type": "markdown",
   "id": "solved-shirt",
   "metadata": {},
   "source": [
    "### Correct the entities in the English corpus with the best labels chosen"
   ]
  },
  {
   "cell_type": "code",
   "execution_count": 422,
   "id": "tired-marketing",
   "metadata": {},
   "outputs": [
    {
     "data": {
      "text/html": [
       "<div>\n",
       "<style scoped>\n",
       "    .dataframe tbody tr th:only-of-type {\n",
       "        vertical-align: middle;\n",
       "    }\n",
       "\n",
       "    .dataframe tbody tr th {\n",
       "        vertical-align: top;\n",
       "    }\n",
       "\n",
       "    .dataframe thead th {\n",
       "        text-align: right;\n",
       "    }\n",
       "</style>\n",
       "<table border=\"1\" class=\"dataframe\">\n",
       "  <thead>\n",
       "    <tr style=\"text-align: right;\">\n",
       "      <th></th>\n",
       "      <th>Input.talk_id</th>\n",
       "      <th>Input.para_id</th>\n",
       "      <th>Input.entity_id</th>\n",
       "      <th>Input.entities</th>\n",
       "      <th>Input.label</th>\n",
       "      <th>best_label</th>\n",
       "    </tr>\n",
       "  </thead>\n",
       "  <tbody>\n",
       "    <tr>\n",
       "      <th>24</th>\n",
       "      <td>0</td>\n",
       "      <td>0</td>\n",
       "      <td>0</td>\n",
       "      <td>Beethoven</td>\n",
       "      <td>PERSON</td>\n",
       "      <td>PERSON</td>\n",
       "    </tr>\n",
       "    <tr>\n",
       "      <th>36</th>\n",
       "      <td>0</td>\n",
       "      <td>0</td>\n",
       "      <td>1</td>\n",
       "      <td>Justin Bieber</td>\n",
       "      <td>PERSON</td>\n",
       "      <td>PERSON</td>\n",
       "    </tr>\n",
       "    <tr>\n",
       "      <th>72</th>\n",
       "      <td>1</td>\n",
       "      <td>0</td>\n",
       "      <td>13</td>\n",
       "      <td>Chaconne</td>\n",
       "      <td>PERSON</td>\n",
       "      <td>WORK_OF_ART</td>\n",
       "    </tr>\n",
       "    <tr>\n",
       "      <th>114</th>\n",
       "      <td>1</td>\n",
       "      <td>0</td>\n",
       "      <td>25</td>\n",
       "      <td>Middle Eastern</td>\n",
       "      <td>LOC</td>\n",
       "      <td>LOC</td>\n",
       "    </tr>\n",
       "    <tr>\n",
       "      <th>102</th>\n",
       "      <td>1</td>\n",
       "      <td>0</td>\n",
       "      <td>23</td>\n",
       "      <td>Northern Romanian</td>\n",
       "      <td>LOC</td>\n",
       "      <td>LOC</td>\n",
       "    </tr>\n",
       "    <tr>\n",
       "      <th>...</th>\n",
       "      <td>...</td>\n",
       "      <td>...</td>\n",
       "      <td>...</td>\n",
       "      <td>...</td>\n",
       "      <td>...</td>\n",
       "      <td>...</td>\n",
       "    </tr>\n",
       "    <tr>\n",
       "      <th>2352</th>\n",
       "      <td>176</td>\n",
       "      <td>6</td>\n",
       "      <td>8</td>\n",
       "      <td>Svalbard</td>\n",
       "      <td>ORG</td>\n",
       "      <td>LOC</td>\n",
       "    </tr>\n",
       "    <tr>\n",
       "      <th>2358</th>\n",
       "      <td>176</td>\n",
       "      <td>8</td>\n",
       "      <td>1</td>\n",
       "      <td>USA</td>\n",
       "      <td>LOC</td>\n",
       "      <td>LOC</td>\n",
       "    </tr>\n",
       "    <tr>\n",
       "      <th>2364</th>\n",
       "      <td>178</td>\n",
       "      <td>18</td>\n",
       "      <td>6</td>\n",
       "      <td>the Galapagos Islands</td>\n",
       "      <td>LOC</td>\n",
       "      <td>LOC</td>\n",
       "    </tr>\n",
       "    <tr>\n",
       "      <th>2361</th>\n",
       "      <td>178</td>\n",
       "      <td>17</td>\n",
       "      <td>17</td>\n",
       "      <td>Ed Wilson's</td>\n",
       "      <td>PERSON</td>\n",
       "      <td>PERSON</td>\n",
       "    </tr>\n",
       "    <tr>\n",
       "      <th>2367</th>\n",
       "      <td>179</td>\n",
       "      <td>15</td>\n",
       "      <td>7</td>\n",
       "      <td>Ira Glass</td>\n",
       "      <td>PERSON</td>\n",
       "      <td>PERSON</td>\n",
       "    </tr>\n",
       "  </tbody>\n",
       "</table>\n",
       "<p>790 rows × 6 columns</p>\n",
       "</div>"
      ],
      "text/plain": [
       "      Input.talk_id  Input.para_id  Input.entity_id         Input.entities  \\\n",
       "24                0              0                0              Beethoven   \n",
       "36                0              0                1          Justin Bieber   \n",
       "72                1              0               13               Chaconne   \n",
       "114               1              0               25         Middle Eastern   \n",
       "102               1              0               23      Northern Romanian   \n",
       "...             ...            ...              ...                    ...   \n",
       "2352            176              6                8               Svalbard   \n",
       "2358            176              8                1                    USA   \n",
       "2364            178             18                6  the Galapagos Islands   \n",
       "2361            178             17               17            Ed Wilson's   \n",
       "2367            179             15                7              Ira Glass   \n",
       "\n",
       "     Input.label   best_label  \n",
       "24        PERSON       PERSON  \n",
       "36        PERSON       PERSON  \n",
       "72        PERSON  WORK_OF_ART  \n",
       "114          LOC          LOC  \n",
       "102          LOC          LOC  \n",
       "...          ...          ...  \n",
       "2352         ORG          LOC  \n",
       "2358         LOC          LOC  \n",
       "2364         LOC          LOC  \n",
       "2361      PERSON       PERSON  \n",
       "2367      PERSON       PERSON  \n",
       "\n",
       "[790 rows x 6 columns]"
      ]
     },
     "execution_count": 422,
     "metadata": {},
     "output_type": "execute_result"
    }
   ],
   "source": [
    "best_annotations.sort_values(\"Input.talk_id\")"
   ]
  },
  {
   "cell_type": "markdown",
   "id": "celtic-complaint",
   "metadata": {},
   "source": [
    "Read the English corpus as `en_df`"
   ]
  },
  {
   "cell_type": "code",
   "execution_count": 467,
   "id": "norman-satellite",
   "metadata": {},
   "outputs": [],
   "source": [
    "en_file_path = \"../transcripts/en/filtered/filtered_annotated_ted_talks_en.json\"\n",
    "with open(en_file_path, \"r\", encoding=\"utf-8\") as f:\n",
    "    en_corpus = json.load(f)\n",
    "en_df = pd.DataFrame(en_corpus)"
   ]
  },
  {
   "cell_type": "markdown",
   "id": "imported-season",
   "metadata": {},
   "source": [
    "First, let's collect all the entity-label combinations in `best_annotations`."
   ]
  },
  {
   "cell_type": "code",
   "execution_count": 489,
   "id": "secondary-understanding",
   "metadata": {},
   "outputs": [],
   "source": [
    "from collections import defaultdict\n",
    "ent_labels_dict = defaultdict(list)\n",
    "for row in best_annotations.iterrows():\n",
    "    ent_labels_dict[row[1][\"Input.entities\"]].append(row[1][\"best_label\"])"
   ]
  },
  {
   "cell_type": "markdown",
   "id": "exceptional-miller",
   "metadata": {},
   "source": [
    "Second, modify labels using talk_id, para_id, and entity_id"
   ]
  },
  {
   "cell_type": "code",
   "execution_count": 500,
   "id": "accompanied-malaysia",
   "metadata": {},
   "outputs": [],
   "source": [
    "for row in best_annotations.iterrows():\n",
    "    talk_id = row[1][\"Input.talk_id\"]\n",
    "    para_id = row[1][\"Input.para_id\"]\n",
    "    ent_id = row[1][\"Input.entity_id\"]\n",
    "    label = row[1][\"best_label\"]\n",
    "    \n",
    "    en_corpus[talk_id][\"text\"][para_id][\"ents\"][ent_id][\"label\"] = label"
   ]
  },
  {
   "cell_type": "markdown",
   "id": "independent-express",
   "metadata": {},
   "source": [
    "Third, modify all labels of `FAC` to `ORG`, and `GPE` to `LOC`, and update all labels of entities in `ent_labels_dict` with the new label.\n",
    "- We skipped entities having more than two labels."
   ]
  },
  {
   "cell_type": "code",
   "execution_count": 501,
   "id": "corrected-baghdad",
   "metadata": {},
   "outputs": [],
   "source": [
    "for i, talk in enumerate(en_corpus):\n",
    "    for k, para in enumerate(talk[\"text\"]):\n",
    "        for j, ent in enumerate(para[\"ents\"]):\n",
    "            if ent[\"label\"] == \"GPE\":\n",
    "                en_corpus[i][\"text\"][k][\"ents\"][j][\"label\"] = \"LOC\"\n",
    "            if ent[\"label\"] == \"FAC\":\n",
    "                en_corpus[i][\"text\"][k][\"ents\"][j][\"label\"] = \"ORG\"\n",
    "            if ent[\"text\"] in ent_labels_dict.keys():\n",
    "                if len(ent_labels_dict[ent[\"text\"]]) == 1:\n",
    "                    en_corpus[i][\"text\"][k][\"ents\"][j][\"label\"] = ent_labels_dict[ent[\"text\"]][0]"
   ]
  },
  {
   "cell_type": "markdown",
   "id": "imported-coaching",
   "metadata": {},
   "source": [
    "Make sure all labels are corrected."
   ]
  },
  {
   "cell_type": "code",
   "execution_count": 502,
   "id": "finished-vulnerability",
   "metadata": {},
   "outputs": [],
   "source": [
    "assert en_corpus[5][\"text\"][3][\"ents\"][-1][\"label\"] == \"LOC\"\n",
    "assert en_corpus[1][\"text\"][0][\"ents\"][13][\"label\"] == \"WORK_OF_ART\"\n",
    "assert en_corpus[37][\"text\"][26][\"ents\"][1][\"label\"] == \"ORG\"\n",
    "assert en_corpus[318][\"text\"][29][\"ents\"][2][\"label\"] == \"EVENT\""
   ]
  },
  {
   "cell_type": "markdown",
   "id": "alive-radio",
   "metadata": {},
   "source": [
    "Lastly, let's write the json file"
   ]
  },
  {
   "cell_type": "code",
   "execution_count": 520,
   "id": "thrown-aluminum",
   "metadata": {},
   "outputs": [],
   "source": [
    "def write_json(corpus, file_path):\n",
    "    with open(file_path, 'w', encoding='utf-8') as json_file:\n",
    "        json.dump(corpus, json_file,  indent=4, separators=(',', ':'))"
   ]
  },
  {
   "cell_type": "code",
   "execution_count": 521,
   "id": "criminal-martin",
   "metadata": {},
   "outputs": [],
   "source": [
    "file_path = \"../transcripts/en/final/final_annotations.json\""
   ]
  },
  {
   "cell_type": "code",
   "execution_count": 522,
   "id": "annoying-element",
   "metadata": {},
   "outputs": [],
   "source": [
    "write_json(en_corpus, file_path)"
   ]
  },
  {
   "cell_type": "code",
   "execution_count": null,
   "id": "determined-climb",
   "metadata": {},
   "outputs": [],
   "source": []
  }
 ],
 "metadata": {
  "kernelspec": {
   "display_name": "Python 3",
   "language": "python",
   "name": "python3"
  },
  "language_info": {
   "codemirror_mode": {
    "name": "ipython",
    "version": 3
   },
   "file_extension": ".py",
   "mimetype": "text/x-python",
   "name": "python",
   "nbconvert_exporter": "python",
   "pygments_lexer": "ipython3",
   "version": "3.8.3"
  }
 },
 "nbformat": 4,
 "nbformat_minor": 5
}
